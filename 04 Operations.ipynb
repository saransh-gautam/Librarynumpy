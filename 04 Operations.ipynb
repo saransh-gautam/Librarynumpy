{
 "cells": [
  {
   "cell_type": "code",
   "execution_count": 1,
   "id": "11e191b3-c3c9-4845-8b8a-544a20bcbb68",
   "metadata": {},
   "outputs": [],
   "source": [
    "import numpy as np"
   ]
  },
  {
   "cell_type": "markdown",
   "id": "6d0cb804-d8ec-411a-b847-b40ac8c31e8a",
   "metadata": {},
   "source": [
    "# Broadcasting or scaler quantity"
   ]
  },
  {
   "cell_type": "code",
   "execution_count": 6,
   "id": "e3ce5844-2c1c-4006-8cd3-99304056d5f4",
   "metadata": {},
   "outputs": [
    {
     "name": "stdout",
     "output_type": "stream",
     "text": [
      "[[0 1 2]\n",
      " [3 4 5]\n",
      " [6 7 8]]\n"
     ]
    }
   ],
   "source": [
    "arr1 = np.arange(0,9)\n",
    "arr1 = arr1.reshape(3,3)\n",
    "print(arr1)"
   ]
  },
  {
   "cell_type": "code",
   "execution_count": 7,
   "id": "bc3b03f1-d791-492f-aaf7-620e560b6727",
   "metadata": {},
   "outputs": [
    {
     "data": {
      "text/plain": [
       "array([[ 0,  3,  6],\n",
       "       [ 9, 12, 15],\n",
       "       [18, 21, 24]])"
      ]
     },
     "execution_count": 7,
     "metadata": {},
     "output_type": "execute_result"
    }
   ],
   "source": [
    "arr1*3"
   ]
  },
  {
   "cell_type": "code",
   "execution_count": 12,
   "id": "20cb14a7-f163-44a2-9888-11e3c4da81d3",
   "metadata": {},
   "outputs": [
    {
     "data": {
      "text/plain": [
       "array([[0, 0, 0],\n",
       "       [1, 1, 1],\n",
       "       [2, 2, 2]])"
      ]
     },
     "execution_count": 12,
     "metadata": {},
     "output_type": "execute_result"
    }
   ],
   "source": [
    "arr1//3"
   ]
  },
  {
   "cell_type": "code",
   "execution_count": 13,
   "id": "b14d3f88-f96f-4876-a382-ce630017557e",
   "metadata": {},
   "outputs": [
    {
     "data": {
      "text/plain": [
       "array([[0, 1, 2],\n",
       "       [0, 1, 2],\n",
       "       [0, 1, 2]])"
      ]
     },
     "execution_count": 13,
     "metadata": {},
     "output_type": "execute_result"
    }
   ],
   "source": [
    "arr1%3"
   ]
  },
  {
   "cell_type": "code",
   "execution_count": 14,
   "id": "5e1982b9-857e-4faa-89aa-5c019afebbb5",
   "metadata": {},
   "outputs": [
    {
     "data": {
      "text/plain": [
       "array([[-3, -2, -1],\n",
       "       [ 0,  1,  2],\n",
       "       [ 3,  4,  5]])"
      ]
     },
     "execution_count": 14,
     "metadata": {},
     "output_type": "execute_result"
    }
   ],
   "source": [
    "arr1-3"
   ]
  },
  {
   "cell_type": "code",
   "execution_count": 15,
   "id": "dbca04db-b383-4718-b293-6c4731058e94",
   "metadata": {},
   "outputs": [
    {
     "data": {
      "text/plain": [
       "array([[10, 11, 12],\n",
       "       [13, 14, 15],\n",
       "       [16, 17, 18]])"
      ]
     },
     "execution_count": 15,
     "metadata": {},
     "output_type": "execute_result"
    }
   ],
   "source": [
    "arr1+10"
   ]
  },
  {
   "cell_type": "code",
   "execution_count": null,
   "id": "9d759d03-a6d8-4b74-847b-eda4064e08d7",
   "metadata": {},
   "outputs": [],
   "source": []
  }
 ],
 "metadata": {
  "kernelspec": {
   "display_name": "Python 3 (ipykernel)",
   "language": "python",
   "name": "python3"
  },
  "language_info": {
   "codemirror_mode": {
    "name": "ipython",
    "version": 3
   },
   "file_extension": ".py",
   "mimetype": "text/x-python",
   "name": "python",
   "nbconvert_exporter": "python",
   "pygments_lexer": "ipython3",
   "version": "3.13.5"
  }
 },
 "nbformat": 4,
 "nbformat_minor": 5
}
