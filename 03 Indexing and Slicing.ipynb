{
 "cells": [
  {
   "cell_type": "code",
   "execution_count": 5,
   "id": "974ad88b-5266-4e44-bf8e-398576e0082b",
   "metadata": {},
   "outputs": [],
   "source": [
    "import numpy as np"
   ]
  },
  {
   "cell_type": "markdown",
   "id": "2676a11c-53f6-4be2-8702-41b751621a12",
   "metadata": {},
   "source": [
    "# Indexing"
   ]
  },
  {
   "cell_type": "code",
   "execution_count": 53,
   "id": "80aec022-2302-40fe-a9dd-8914ebbf7b32",
   "metadata": {},
   "outputs": [],
   "source": [
    "np.random.seed(50)    # sbka means sare programs ke same itmes ya same output hogi by seed function or generation process same kaam kregi"
   ]
  },
  {
   "cell_type": "code",
   "execution_count": 54,
   "id": "160bcd36-cd85-4694-9eea-56e1d1d89c2b",
   "metadata": {},
   "outputs": [
    {
     "name": "stdout",
     "output_type": "stream",
     "text": [
      "[[17  1 12]\n",
      " [14  2  5]\n",
      " [ 7  6  7]]\n"
     ]
    }
   ],
   "source": [
    "arr = np.random.randint(1,20,(3,3))\n",
    "print(arr)"
   ]
  },
  {
   "cell_type": "code",
   "execution_count": 55,
   "id": "41030ae6-b326-4c9e-8f7f-bafcff67cc34",
   "metadata": {},
   "outputs": [
    {
     "data": {
      "text/plain": [
       "np.int32(7)"
      ]
     },
     "execution_count": 55,
     "metadata": {},
     "output_type": "execute_result"
    }
   ],
   "source": [
    "arr[2][0]           # row and column wise indexing"
   ]
  },
  {
   "cell_type": "code",
   "execution_count": 56,
   "id": "512c7ada-353e-4fc5-8372-fd4cddf498f9",
   "metadata": {},
   "outputs": [
    {
     "data": {
      "text/plain": [
       "np.int32(5)"
      ]
     },
     "execution_count": 56,
     "metadata": {},
     "output_type": "execute_result"
    }
   ],
   "source": [
    "arr[1,2]   # another example of indexing "
   ]
  },
  {
   "cell_type": "code",
   "execution_count": 57,
   "id": "94da8619-6ba3-4159-862f-33be2b540e7b",
   "metadata": {},
   "outputs": [
    {
     "name": "stdout",
     "output_type": "stream",
     "text": [
      "[[[14  6  3  8]\n",
      "  [16  5 15  4]\n",
      "  [ 7 12 18 11]\n",
      "  [10  1  7  3]\n",
      "  [16 10  4  3]]\n",
      "\n",
      " [[13  1  4  3]\n",
      "  [11 17 15  1]\n",
      "  [ 1 12  8 15]\n",
      "  [14  8  5  5]\n",
      "  [ 1 12  1 14]]\n",
      "\n",
      " [[14  2 10 12]\n",
      "  [ 6  1 16  6]\n",
      "  [ 7  2  5  5]\n",
      "  [13 15  5 12]\n",
      "  [ 1  6  9 13]]]\n"
     ]
    }
   ],
   "source": [
    "arr2 = np.random.randint(1,20,(3,5,4))\n",
    "print(arr2)"
   ]
  },
  {
   "cell_type": "code",
   "execution_count": 58,
   "id": "d81a4814-f250-4511-a415-f3e70d32416a",
   "metadata": {},
   "outputs": [
    {
     "data": {
      "text/plain": [
       "array([[13,  1,  4,  3],\n",
       "       [11, 17, 15,  1],\n",
       "       [ 1, 12,  8, 15],\n",
       "       [14,  8,  5,  5],\n",
       "       [ 1, 12,  1, 14]], dtype=int32)"
      ]
     },
     "execution_count": 58,
     "metadata": {},
     "output_type": "execute_result"
    }
   ],
   "source": [
    "arr2[1]    # indexing block wise"
   ]
  },
  {
   "cell_type": "code",
   "execution_count": 59,
   "id": "43bdf24b-b14a-465f-9def-d9bcc3445f65",
   "metadata": {},
   "outputs": [
    {
     "data": {
      "text/plain": [
       "array([ 1, 12,  1, 14], dtype=int32)"
      ]
     },
     "execution_count": 59,
     "metadata": {},
     "output_type": "execute_result"
    }
   ],
   "source": [
    "arr2[1,4]      # ab usi block ke andr indexing"
   ]
  },
  {
   "cell_type": "code",
   "execution_count": 60,
   "id": "3f541e42-0022-477b-a1b0-ec7a49a95a31",
   "metadata": {},
   "outputs": [
    {
     "data": {
      "text/plain": [
       "np.int32(1)"
      ]
     },
     "execution_count": 60,
     "metadata": {},
     "output_type": "execute_result"
    }
   ],
   "source": [
    "arr2[1,4,2]      # ab usi row mai jo choose ki hai uske andr item selection"
   ]
  },
  {
   "cell_type": "markdown",
   "id": "f448b536-5a6d-4791-8fa3-1360c4d2c507",
   "metadata": {},
   "source": [
    "# Slicing"
   ]
  },
  {
   "cell_type": "code",
   "execution_count": 62,
   "id": "caf14626-90f2-432f-80a7-74283ab3a548",
   "metadata": {},
   "outputs": [
    {
     "name": "stdout",
     "output_type": "stream",
     "text": [
      "[[ 7 16  1 19 12]\n",
      " [ 2 18 15 15  6]\n",
      " [ 7 10  5 10  1]\n",
      " [16 17 18 17  5]\n",
      " [12  2  6 14  4]]\n"
     ]
    }
   ],
   "source": [
    "arr3 = np.random.randint(1,20,(5,5))\n",
    "print(arr3)"
   ]
  },
  {
   "cell_type": "code",
   "execution_count": 65,
   "id": "239f571c-4e1f-49a7-ba55-2771a640faaf",
   "metadata": {},
   "outputs": [
    {
     "data": {
      "text/plain": [
       "array([[10,  5],\n",
       "       [17, 18]], dtype=int32)"
      ]
     },
     "execution_count": 65,
     "metadata": {},
     "output_type": "execute_result"
    }
   ],
   "source": [
    "arr3[2:4,1:3]"
   ]
  },
  {
   "cell_type": "code",
   "execution_count": 67,
   "id": "3337e3ac-842f-46d6-b384-0467cdd35992",
   "metadata": {},
   "outputs": [
    {
     "data": {
      "text/plain": [
       "array([[12,  2,  6, 14,  4],\n",
       "       [16, 17, 18, 17,  5],\n",
       "       [ 7, 10,  5, 10,  1],\n",
       "       [ 2, 18, 15, 15,  6],\n",
       "       [ 7, 16,  1, 19, 12]], dtype=int32)"
      ]
     },
     "execution_count": 67,
     "metadata": {},
     "output_type": "execute_result"
    }
   ],
   "source": [
    "arr3[::-1]                #opposite"
   ]
  },
  {
   "cell_type": "code",
   "execution_count": 69,
   "id": "7aaf5145-4e2a-46f3-a66f-3555dc2d8936",
   "metadata": {},
   "outputs": [
    {
     "name": "stdout",
     "output_type": "stream",
     "text": [
      "[[[ 8  5 12 14]\n",
      "  [ 1  9 16  7]\n",
      "  [ 4  6 12 19]\n",
      "  [ 2 16  4  4]]\n",
      "\n",
      " [[ 1 15 11 13]\n",
      "  [ 6 13  1 12]\n",
      "  [15 14 17  2]\n",
      "  [16 19 12  1]]\n",
      "\n",
      " [[ 5 19 14 10]\n",
      "  [16 18 19 18]\n",
      "  [ 3  6  2  2]\n",
      "  [11 19  9 15]]]\n"
     ]
    }
   ],
   "source": [
    "arr4 = np.random.randint(1,20,(3,4,4))\n",
    "print(arr4)"
   ]
  },
  {
   "cell_type": "code",
   "execution_count": 81,
   "id": "53063ebf-9963-4cd9-82ea-61ee1c5d4453",
   "metadata": {},
   "outputs": [
    {
     "data": {
      "text/plain": [
       "array([[6]], dtype=int32)"
      ]
     },
     "execution_count": 81,
     "metadata": {},
     "output_type": "execute_result"
    }
   ],
   "source": [
    "arr4[:,1:4,1:2][2:,1]"
   ]
  },
  {
   "cell_type": "markdown",
   "id": "91682866-ac5b-44cc-bd60-041ca71a2913",
   "metadata": {},
   "source": [
    "# Assigning value"
   ]
  },
  {
   "cell_type": "code",
   "execution_count": 84,
   "id": "b00380fb-8ebf-4cf5-94b8-42a5fba42105",
   "metadata": {},
   "outputs": [
    {
     "name": "stdout",
     "output_type": "stream",
     "text": [
      "[[[9 3]\n",
      "  [7 6]\n",
      "  [5 3]\n",
      "  [4 6]\n",
      "  [6 3]]\n",
      "\n",
      " [[6 8]\n",
      "  [7 1]\n",
      "  [1 8]\n",
      "  [9 8]\n",
      "  [4 4]]]\n"
     ]
    }
   ],
   "source": [
    "arr5 = np.random.randint(1,10,(2,5,2))\n",
    "print(arr5)"
   ]
  },
  {
   "cell_type": "code",
   "execution_count": 94,
   "id": "18308d8e-e3b0-4ce0-b705-5a7dbf7cf4ee",
   "metadata": {},
   "outputs": [
    {
     "data": {
      "text/plain": [
       "array([[  6,   8],\n",
       "       [  7,   1],\n",
       "       [  1,   8],\n",
       "       [  9,   8],\n",
       "       [-10,   4]], dtype=int32)"
      ]
     },
     "execution_count": 94,
     "metadata": {},
     "output_type": "execute_result"
    }
   ],
   "source": [
    "arr5[1]"
   ]
  },
  {
   "cell_type": "code",
   "execution_count": 90,
   "id": "71465abb-2630-427e-bbec-f3defe130ebb",
   "metadata": {},
   "outputs": [],
   "source": [
    "arr5[1,-1,0] = -10"
   ]
  },
  {
   "cell_type": "code",
   "execution_count": 91,
   "id": "94b55fb6-5509-49f1-a463-fa8ad254085e",
   "metadata": {},
   "outputs": [
    {
     "data": {
      "text/plain": [
       "array([[[  9,   3],\n",
       "        [  7,   6],\n",
       "        [  5,   3],\n",
       "        [  4,   6],\n",
       "        [  6,   3]],\n",
       "\n",
       "       [[  6,   8],\n",
       "        [  7,   1],\n",
       "        [  1,   8],\n",
       "        [  9,   8],\n",
       "        [-10,   4]]], dtype=int32)"
      ]
     },
     "execution_count": 91,
     "metadata": {},
     "output_type": "execute_result"
    }
   ],
   "source": [
    "arr5"
   ]
  },
  {
   "cell_type": "code",
   "execution_count": 7,
   "id": "a484043e-2a33-4ee1-b6d8-b68758988738",
   "metadata": {},
   "outputs": [
    {
     "name": "stdout",
     "output_type": "stream",
     "text": [
      "[[10  5 16  8 13]\n",
      " [12  5  8  8  8]\n",
      " [ 3 11  2 13 14]\n",
      " [17 16  1  9 17]\n",
      " [10 19  9 10  9]]\n"
     ]
    }
   ],
   "source": [
    "arr6 = np.random.randint(1,20,(5,5))\n",
    "print(arr6)"
   ]
  },
  {
   "cell_type": "code",
   "execution_count": 8,
   "id": "a09d2d01-e53c-42e7-bddf-0034d44d78ac",
   "metadata": {},
   "outputs": [
    {
     "name": "stdout",
     "output_type": "stream",
     "text": [
      "[[17 16  1  9 17]\n",
      " [10 19  9 10  9]]\n"
     ]
    }
   ],
   "source": [
    "a = arr6[-2:]\n",
    "print(a)"
   ]
  },
  {
   "cell_type": "code",
   "execution_count": 9,
   "id": "c057320b-b7ee-45fc-ad54-89355366854c",
   "metadata": {},
   "outputs": [
    {
     "name": "stdout",
     "output_type": "stream",
     "text": [
      "[[ 9 17]\n",
      " [10  9]]\n"
     ]
    }
   ],
   "source": [
    "a = arr6[-2:,-2:]\n",
    "print(a)"
   ]
  },
  {
   "cell_type": "markdown",
   "id": "f261f5ef-0c56-45d6-a4b0-33ca2b5d458b",
   "metadata": {},
   "source": [
    "# With variable"
   ]
  },
  {
   "cell_type": "code",
   "execution_count": 30,
   "id": "275e39f1-2759-4fd3-84d5-5618b92280a1",
   "metadata": {},
   "outputs": [
    {
     "data": {
      "text/plain": [
       "array([[ 10,   5,  16,   8,  13],\n",
       "       [ 12,   5,   8,   8,   8],\n",
       "       [  3,  11,   2,  13,  14],\n",
       "       [ 17,  16,   1, 100,  17],\n",
       "       [ 10,  19,   9,  10,   9]], dtype=int32)"
      ]
     },
     "execution_count": 30,
     "metadata": {},
     "output_type": "execute_result"
    }
   ],
   "source": [
    "arr6"
   ]
  },
  {
   "cell_type": "code",
   "execution_count": 31,
   "id": "8e1ce1a0-3038-4234-b633-da07b8810fd0",
   "metadata": {},
   "outputs": [
    {
     "name": "stdout",
     "output_type": "stream",
     "text": [
      "[[100  17]\n",
      " [ 10   9]]\n"
     ]
    }
   ],
   "source": [
    "a =arr6[-2:,-2:]\n",
    "print(a)"
   ]
  },
  {
   "cell_type": "code",
   "execution_count": 32,
   "id": "58312e0b-9a4d-429b-91cb-2ba444a70d1e",
   "metadata": {},
   "outputs": [],
   "source": [
    "a[0,0]  = 100"
   ]
  },
  {
   "cell_type": "code",
   "execution_count": 33,
   "id": "8d2b961a-dace-4ffc-98e8-9d5e44cc2016",
   "metadata": {},
   "outputs": [
    {
     "data": {
      "text/plain": [
       "array([[100,  17],\n",
       "       [ 10,   9]], dtype=int32)"
      ]
     },
     "execution_count": 33,
     "metadata": {},
     "output_type": "execute_result"
    }
   ],
   "source": [
    "a"
   ]
  },
  {
   "cell_type": "code",
   "execution_count": 35,
   "id": "01b58fb8-498b-45b4-828c-9d850a968ba6",
   "metadata": {},
   "outputs": [
    {
     "data": {
      "text/plain": [
       "array([[ 10,   5,  16,   8,  13],\n",
       "       [ 12,   5,   8,   8,   8],\n",
       "       [  3,  11,   2,  13,  14],\n",
       "       [ 17,  16,   1, 100,  17],\n",
       "       [ 10,  19,   9,  10,   9]], dtype=int32)"
      ]
     },
     "execution_count": 35,
     "metadata": {},
     "output_type": "execute_result"
    }
   ],
   "source": [
    "arr6"
   ]
  },
  {
   "cell_type": "code",
   "execution_count": null,
   "id": "dfd06d3a-9703-45ac-9b19-89585f47e1bb",
   "metadata": {},
   "outputs": [],
   "source": []
  },
  {
   "cell_type": "code",
   "execution_count": null,
   "id": "f93b7419-8cdb-4afe-bb19-75522eff7caa",
   "metadata": {},
   "outputs": [],
   "source": []
  }
 ],
 "metadata": {
  "kernelspec": {
   "display_name": "Python 3 (ipykernel)",
   "language": "python",
   "name": "python3"
  },
  "language_info": {
   "codemirror_mode": {
    "name": "ipython",
    "version": 3
   },
   "file_extension": ".py",
   "mimetype": "text/x-python",
   "name": "python",
   "nbconvert_exporter": "python",
   "pygments_lexer": "ipython3",
   "version": "3.13.5"
  }
 },
 "nbformat": 4,
 "nbformat_minor": 5
}
