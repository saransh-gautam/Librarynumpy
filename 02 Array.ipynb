{
 "cells": [
  {
   "cell_type": "code",
   "execution_count": 1,
   "id": "e42849c2-f961-4895-bcba-d3eb89dd1222",
   "metadata": {},
   "outputs": [],
   "source": [
    "import numpy as np"
   ]
  },
  {
   "cell_type": "markdown",
   "id": "7be3eb6b-3722-458b-9a40-73ff8710de34",
   "metadata": {},
   "source": [
    "# range and arange same use hota hai"
   ]
  },
  {
   "cell_type": "code",
   "execution_count": 8,
   "id": "45b44e79-d4bf-4816-b1ce-6bf9eda63ec7",
   "metadata": {},
   "outputs": [
    {
     "name": "stdout",
     "output_type": "stream",
     "text": [
      "[ 0  1  2  3  4  5  6  7  8  9 10 11 12 13 14 15 16 17 18 19 20 21 22 23]\n"
     ]
    }
   ],
   "source": [
    "arr = np.array(range(24))\n",
    "print(arr)"
   ]
  },
  {
   "cell_type": "code",
   "execution_count": 15,
   "id": "796ea09a-0e8f-45e3-b49a-709303ad37cf",
   "metadata": {},
   "outputs": [
    {
     "name": "stdout",
     "output_type": "stream",
     "text": [
      "[[[ 0  1  2  3]\n",
      "  [ 4  5  6  7]\n",
      "  [ 8  9 10 11]]\n",
      "\n",
      " [[12 13 14 15]\n",
      "  [16 17 18 19]\n",
      "  [20 21 22 23]]]\n"
     ]
    }
   ],
   "source": [
    "array2 = arr.reshape(2,3,4)\n",
    "print(array2)"
   ]
  },
  {
   "cell_type": "code",
   "execution_count": 16,
   "id": "1c457daa-f215-4e63-9eaa-595ecee26cee",
   "metadata": {},
   "outputs": [
    {
     "data": {
      "text/plain": [
       "3"
      ]
     },
     "execution_count": 16,
     "metadata": {},
     "output_type": "execute_result"
    }
   ],
   "source": [
    "array2.ndim"
   ]
  },
  {
   "cell_type": "code",
   "execution_count": 20,
   "id": "f41d9988-c211-490c-b97f-aee2f2fab2b4",
   "metadata": {},
   "outputs": [
    {
     "name": "stdout",
     "output_type": "stream",
     "text": [
      "[ 1  2  3  4  5  6  7  8  9 10]\n"
     ]
    }
   ],
   "source": [
    "Array3 = np.arange(1,10+1)\n",
    "print(Array3)"
   ]
  },
  {
   "cell_type": "code",
   "execution_count": 26,
   "id": "55e9c827-80b1-4f77-90c7-62df6834633c",
   "metadata": {},
   "outputs": [
    {
     "data": {
      "text/plain": [
       "array([[ 1,  2,  3,  4,  5,  6,  7,  8,  9, 10]])"
      ]
     },
     "execution_count": 26,
     "metadata": {},
     "output_type": "execute_result"
    }
   ],
   "source": [
    "Array3.reshape(1,10)    # jitne inputs doge utni inputs ya dimesnions bdegi"
   ]
  },
  {
   "cell_type": "code",
   "execution_count": 27,
   "id": "d144075e-e869-4454-96af-31ce14d064ef",
   "metadata": {},
   "outputs": [
    {
     "data": {
      "text/plain": [
       "array([ 0,  1,  2,  3,  4,  5,  6,  7,  8,  9, 10, 11, 12, 13, 14, 15, 16,\n",
       "       17, 18, 19, 20, 21, 22, 23])"
      ]
     },
     "execution_count": 27,
     "metadata": {},
     "output_type": "execute_result"
    }
   ],
   "source": [
    "arr.reshape(-1)"
   ]
  },
  {
   "cell_type": "markdown",
   "id": "a0d3cce5-3299-4adf-9a59-d62adb93faf5",
   "metadata": {},
   "source": [
    "# linearly spaced  generate number from starting index including ending index."
   ]
  },
  {
   "cell_type": "code",
   "execution_count": 30,
   "id": "567171a6-d904-4e98-8773-5391d8b73f9e",
   "metadata": {},
   "outputs": [
    {
     "data": {
      "text/plain": [
       "array([ 1.  ,  3.25,  5.5 ,  7.75, 10.  ])"
      ]
     },
     "execution_count": 30,
     "metadata": {},
     "output_type": "execute_result"
    }
   ],
   "source": [
    "np.linspace(1,10,5)"
   ]
  },
  {
   "cell_type": "markdown",
   "id": "ba7fe350-bc42-4d39-bc3c-f0f69f919863",
   "metadata": {},
   "source": [
    "# Random function"
   ]
  },
  {
   "cell_type": "markdown",
   "id": "9b44baca-3af6-4e55-9b6d-755d693f1c08",
   "metadata": {},
   "source": [
    "## Random numbers and array from unifrom distribution between 0 and 1"
   ]
  },
  {
   "cell_type": "markdown",
   "id": "5ff68d80-2047-4997-9768-bd490b7555bd",
   "metadata": {},
   "source": [
    "## Uniform distribution means sb numbers ke ane ka chance brabar hota hai \n"
   ]
  },
  {
   "cell_type": "code",
   "execution_count": 36,
   "id": "269c1881-ef1d-4075-80f3-d04b78bd4cbe",
   "metadata": {},
   "outputs": [
    {
     "data": {
      "text/plain": [
       "array([[0.1496452 , 0.76525223, 0.08239026, 0.17422428, 0.60650694,\n",
       "        0.49674166, 0.87569082, 0.98551013, 0.86020855, 0.57043104]])"
      ]
     },
     "execution_count": 36,
     "metadata": {},
     "output_type": "execute_result"
    }
   ],
   "source": [
    "np.random.rand(1,10)"
   ]
  },
  {
   "cell_type": "code",
   "execution_count": 35,
   "id": "8957e400-f0b7-4156-a216-611ee9e6ce51",
   "metadata": {},
   "outputs": [
    {
     "data": {
      "text/plain": [
       "array([[[0.45451146, 0.68043683, 0.49239368],\n",
       "        [0.0775018 , 0.04320014, 0.74484816],\n",
       "        [0.38243827, 0.49289219, 0.47644624],\n",
       "        [0.48298497, 0.79808877, 0.48776758],\n",
       "        [0.15619418, 0.29477227, 0.58572379]],\n",
       "\n",
       "       [[0.3332375 , 0.13972846, 0.02850249],\n",
       "        [0.13249685, 0.85627915, 0.18017926],\n",
       "        [0.41348611, 0.90868586, 0.95722206],\n",
       "        [0.0700244 , 0.95050049, 0.00765038],\n",
       "        [0.94063631, 0.05793995, 0.90153135]]])"
      ]
     },
     "execution_count": 35,
     "metadata": {},
     "output_type": "execute_result"
    }
   ],
   "source": [
    "np.random.rand(2,5,3)"
   ]
  },
  {
   "cell_type": "markdown",
   "id": "1bbcdddf-5664-423e-8351-a865c385eab0",
   "metadata": {},
   "source": [
    "## Random numbers and array from normal distribution between 0 - indicates = randn"
   ]
  },
  {
   "cell_type": "markdown",
   "id": "4178397a-bb85-47cf-838b-5aeb17bbd058",
   "metadata": {},
   "source": [
    "### centre ki trf jyada dhyan hoga hai "
   ]
  },
  {
   "cell_type": "code",
   "execution_count": 40,
   "id": "56903c10-26ae-41a3-8364-83362735c248",
   "metadata": {},
   "outputs": [
    {
     "data": {
      "text/plain": [
       "array([[-1.17435055,  2.32725722, -0.05034492,  1.88367655,  0.3385507 ]])"
      ]
     },
     "execution_count": 40,
     "metadata": {},
     "output_type": "execute_result"
    }
   ],
   "source": [
    "np.random.randn(1,5)"
   ]
  },
  {
   "cell_type": "markdown",
   "id": "e0d47914-d3c8-4f8a-8cd0-2fb40e02cbca",
   "metadata": {},
   "source": [
    "# Randint function"
   ]
  },
  {
   "cell_type": "code",
   "execution_count": 46,
   "id": "f48ac615-a48c-4903-be67-c6307edfb55b",
   "metadata": {},
   "outputs": [
    {
     "name": "stdout",
     "output_type": "stream",
     "text": [
      "15\n"
     ]
    }
   ],
   "source": [
    "array1 = np.random.randint(0,100)\n",
    "print(array1)"
   ]
  },
  {
   "cell_type": "code",
   "execution_count": 64,
   "id": "3982d342-43b0-4b31-a6f2-5018006a96e0",
   "metadata": {},
   "outputs": [
    {
     "name": "stdout",
     "output_type": "stream",
     "text": [
      "[[[23 57 67 84 81 90 17 35 48 30]\n",
      "  [90  6 67 55 61 23  0 37 54 76]\n",
      "  [15  2 50 72 43 79 51  7 87 50]\n",
      "  [18 88 32 93 50 86 50 60  6 24]\n",
      "  [87 41 20 77 50 78  8 78 70 11]]\n",
      "\n",
      " [[54 21 19 49 90 22 33 76 98 16]\n",
      "  [95 34 60 12 19 74 38 12 90 80]\n",
      "  [86 83 20 10 74  0 95 86 47 40]\n",
      "  [59 43 84 11 43 85 91 45 37 89]\n",
      "  [54 76  2 26 93 54 73 29 29 79]]]\n"
     ]
    }
   ],
   "source": [
    "array1 = np.random.randint(0,100,(2,5,10))\n",
    "print(array1)                                 # generating array with dimensions"
   ]
  },
  {
   "cell_type": "code",
   "execution_count": 54,
   "id": "5a255681-b5cc-4db2-95c5-8bcebad7fc97",
   "metadata": {},
   "outputs": [],
   "source": [
    "# flatten function"
   ]
  },
  {
   "cell_type": "code",
   "execution_count": 56,
   "id": "c2092433-6905-42c4-b7c1-ba0f86d55c36",
   "metadata": {},
   "outputs": [],
   "source": [
    "#c,k,f,A"
   ]
  },
  {
   "cell_type": "code",
   "execution_count": 66,
   "id": "00be6f6e-48b7-4a02-bd12-a998a8ce39cc",
   "metadata": {},
   "outputs": [
    {
     "data": {
      "text/plain": [
       "array([23, 57, 67, 84, 81, 90, 17, 35, 48, 30, 90,  6, 67, 55, 61, 23,  0,\n",
       "       37, 54, 76, 15,  2, 50, 72, 43, 79, 51,  7, 87, 50, 18, 88, 32, 93,\n",
       "       50, 86, 50, 60,  6, 24, 87, 41, 20, 77, 50, 78,  8, 78, 70, 11, 54,\n",
       "       21, 19, 49, 90, 22, 33, 76, 98, 16, 95, 34, 60, 12, 19, 74, 38, 12,\n",
       "       90, 80, 86, 83, 20, 10, 74,  0, 95, 86, 47, 40, 59, 43, 84, 11, 43,\n",
       "       85, 91, 45, 37, 89, 54, 76,  2, 26, 93, 54, 73, 29, 29, 79],\n",
       "      dtype=int32)"
      ]
     },
     "execution_count": 66,
     "metadata": {},
     "output_type": "execute_result"
    }
   ],
   "source": [
    "array1.flatten(\"A\")"
   ]
  },
  {
   "cell_type": "code",
   "execution_count": 67,
   "id": "9a5c63d3-e3da-411b-a4c3-7b64891b5fbc",
   "metadata": {},
   "outputs": [
    {
     "data": {
      "text/plain": [
       "array([23, 57, 67, 84, 81, 90, 17, 35, 48, 30, 90,  6, 67, 55, 61, 23,  0,\n",
       "       37, 54, 76, 15,  2, 50, 72, 43, 79, 51,  7, 87, 50, 18, 88, 32, 93,\n",
       "       50, 86, 50, 60,  6, 24, 87, 41, 20, 77, 50, 78,  8, 78, 70, 11, 54,\n",
       "       21, 19, 49, 90, 22, 33, 76, 98, 16, 95, 34, 60, 12, 19, 74, 38, 12,\n",
       "       90, 80, 86, 83, 20, 10, 74,  0, 95, 86, 47, 40, 59, 43, 84, 11, 43,\n",
       "       85, 91, 45, 37, 89, 54, 76,  2, 26, 93, 54, 73, 29, 29, 79],\n",
       "      dtype=int32)"
      ]
     },
     "execution_count": 67,
     "metadata": {},
     "output_type": "execute_result"
    }
   ],
   "source": [
    "array1.flatten(\"c\")"
   ]
  },
  {
   "cell_type": "code",
   "execution_count": 69,
   "id": "5dce6bad-135c-4cd4-9081-fe54d1ddaddb",
   "metadata": {},
   "outputs": [
    {
     "data": {
      "text/plain": [
       "array([23, 54, 90, 95, 15, 86, 18, 59, 87, 54, 57, 21,  6, 34,  2, 83, 88,\n",
       "       43, 41, 76, 67, 19, 67, 60, 50, 20, 32, 84, 20,  2, 84, 49, 55, 12,\n",
       "       72, 10, 93, 11, 77, 26, 81, 90, 61, 19, 43, 74, 50, 43, 50, 93, 90,\n",
       "       22, 23, 74, 79,  0, 86, 85, 78, 54, 17, 33,  0, 38, 51, 95, 50, 91,\n",
       "        8, 73, 35, 76, 37, 12,  7, 86, 60, 45, 78, 29, 48, 98, 54, 90, 87,\n",
       "       47,  6, 37, 70, 29, 30, 16, 76, 80, 50, 40, 24, 89, 11, 79],\n",
       "      dtype=int32)"
      ]
     },
     "execution_count": 69,
     "metadata": {},
     "output_type": "execute_result"
    }
   ],
   "source": [
    "array1.flatten(\"F\")     # block or column  ke sath  chlta hai"
   ]
  },
  {
   "cell_type": "markdown",
   "id": "00c078f6-7d81-4360-bb8a-151fb595c4e4",
   "metadata": {},
   "source": [
    "# arrangment of data in rectangular form is known as Matrix"
   ]
  },
  {
   "cell_type": "markdown",
   "id": "37760f34-17ef-438e-986b-4fef3335b1d6",
   "metadata": {},
   "source": [
    "## Rectangular matrix"
   ]
  },
  {
   "cell_type": "code",
   "execution_count": 73,
   "id": "233d27d4-f8c7-48be-86bd-3d924c06d30e",
   "metadata": {},
   "outputs": [
    {
     "data": {
      "text/plain": [
       "array([[ 6, 98, 76],\n",
       "       [19, 26, 30],\n",
       "       [18, 22, 49],\n",
       "       [42, 63, 80],\n",
       "       [46, 14, 21]], dtype=int32)"
      ]
     },
     "execution_count": 73,
     "metadata": {},
     "output_type": "execute_result"
    }
   ],
   "source": [
    "np.random.randint(0,100,(5,3))   # jisme row jayada column kam"
   ]
  },
  {
   "cell_type": "markdown",
   "id": "3120f961-a5e1-47b3-939f-e306d9cec639",
   "metadata": {},
   "source": [
    "## Square matrix"
   ]
  },
  {
   "cell_type": "code",
   "execution_count": 74,
   "id": "5e203710-3866-4f83-96a8-4ed2a7e88f43",
   "metadata": {},
   "outputs": [
    {
     "data": {
      "text/plain": [
       "array([[29, 99, 54,  3, 90],\n",
       "       [ 4, 26, 98, 69, 37],\n",
       "       [ 3,  3, 10, 97, 36],\n",
       "       [81, 15, 36, 52, 59],\n",
       "       [23, 33, 82, 55, 88]], dtype=int32)"
      ]
     },
     "execution_count": 74,
     "metadata": {},
     "output_type": "execute_result"
    }
   ],
   "source": [
    "np.random.randint(0,100,(5,5)) # jisme row or column dono same hogi"
   ]
  },
  {
   "cell_type": "markdown",
   "id": "88d8c7f4-a730-464b-a434-21371404f1fe",
   "metadata": {},
   "source": [
    "# Upper matrix - diagonal se uper agr number ho toh wo upper matrix"
   ]
  },
  {
   "cell_type": "code",
   "execution_count": 80,
   "id": "bd3d2cc6-3e01-45cf-bc84-0efbf1db9460",
   "metadata": {},
   "outputs": [
    {
     "data": {
      "text/plain": [
       "array([[1, 2, 3],\n",
       "       [0, 4, 5],\n",
       "       [0, 0, 0]])"
      ]
     },
     "execution_count": 80,
     "metadata": {},
     "output_type": "execute_result"
    }
   ],
   "source": [
    "np.array([\n",
    "    [1,2,3],\n",
    "    [0,4,5],\n",
    "    [0,0,0]\n",
    "])"
   ]
  },
  {
   "cell_type": "markdown",
   "id": "6a015034-6001-4121-8c98-a1a02ec0212f",
   "metadata": {},
   "source": [
    "# Lower Matrix"
   ]
  },
  {
   "cell_type": "code",
   "execution_count": 83,
   "id": "76d7f966-3c96-4e54-84d1-d6295eef9988",
   "metadata": {},
   "outputs": [
    {
     "data": {
      "text/plain": [
       "array([[0, 0, 0],\n",
       "       [1, 2, 0],\n",
       "       [3, 4, 5]])"
      ]
     },
     "execution_count": 83,
     "metadata": {},
     "output_type": "execute_result"
    }
   ],
   "source": [
    "np.array(\n",
    "    [\n",
    "        [0,0,0],\n",
    "        [1,2,0],\n",
    "        [3,4,5]\n",
    "    ]\n",
    ")"
   ]
  },
  {
   "cell_type": "markdown",
   "id": "d2ae4c2c-3a7c-47cc-a143-dcd6a4781c91",
   "metadata": {},
   "source": [
    "# Transpose"
   ]
  },
  {
   "cell_type": "code",
   "execution_count": 85,
   "id": "662388ea-d85e-4268-9d7c-50fe61ac2160",
   "metadata": {},
   "outputs": [
    {
     "name": "stdout",
     "output_type": "stream",
     "text": [
      "[[16 24 18]\n",
      " [ 2 18 25]\n",
      " [22 17 25]]\n"
     ]
    }
   ],
   "source": [
    "array6 = np.random.randint(0,30,(3,3))\n",
    "print(array6)"
   ]
  },
  {
   "cell_type": "code",
   "execution_count": 86,
   "id": "fa1f0c68-902b-4f69-9bc2-b206e266da79",
   "metadata": {},
   "outputs": [
    {
     "data": {
      "text/plain": [
       "array([[16,  2, 22],\n",
       "       [24, 18, 17],\n",
       "       [18, 25, 25]], dtype=int32)"
      ]
     },
     "execution_count": 86,
     "metadata": {},
     "output_type": "execute_result"
    }
   ],
   "source": [
    "array6.transpose()"
   ]
  },
  {
   "cell_type": "code",
   "execution_count": null,
   "id": "fca0fca7-cdd9-47cf-aa1e-a3fd8898f489",
   "metadata": {},
   "outputs": [],
   "source": []
  }
 ],
 "metadata": {
  "kernelspec": {
   "display_name": "Python 3 (ipykernel)",
   "language": "python",
   "name": "python3"
  },
  "language_info": {
   "codemirror_mode": {
    "name": "ipython",
    "version": 3
   },
   "file_extension": ".py",
   "mimetype": "text/x-python",
   "name": "python",
   "nbconvert_exporter": "python",
   "pygments_lexer": "ipython3",
   "version": "3.13.5"
  }
 },
 "nbformat": 4,
 "nbformat_minor": 5
}
