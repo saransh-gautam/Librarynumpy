{
 "cells": [
  {
   "cell_type": "markdown",
   "id": "24bbf397-1a9b-4755-b5eb-dbbaed9cecd2",
   "metadata": {},
   "source": [
    "# installing numpy"
   ]
  },
  {
   "cell_type": "code",
   "execution_count": 5,
   "id": "2c303f96-88b2-42e9-b69a-2772d3446358",
   "metadata": {},
   "outputs": [
    {
     "name": "stdout",
     "output_type": "stream",
     "text": [
      "Requirement already satisfied: numpy in c:\\users\\saran\\anaconda3\\lib\\site-packages (2.1.3)\n",
      "Note: you may need to restart the kernel to use updated packages.\n"
     ]
    }
   ],
   "source": [
    "pip install numpy\n"
   ]
  },
  {
   "cell_type": "markdown",
   "id": "ee6b1037-5b5e-4bff-9588-a7a62ee4af9f",
   "metadata": {},
   "source": [
    "# Import numpy"
   ]
  },
  {
   "cell_type": "code",
   "execution_count": 6,
   "id": "56d1bf5a-482c-4e95-bac9-9b4f73a2ba34",
   "metadata": {},
   "outputs": [],
   "source": [
    "import numpy as np"
   ]
  },
  {
   "cell_type": "code",
   "execution_count": 13,
   "id": "aac6c8d1-19ab-482f-bcff-b03b7c5890b0",
   "metadata": {},
   "outputs": [],
   "source": [
    "num_list = [1,2,4,5,6]"
   ]
  },
  {
   "cell_type": "code",
   "execution_count": 14,
   "id": "72f05dfa-ace3-4b46-9ecc-ce7e159b51ee",
   "metadata": {},
   "outputs": [],
   "source": [
    "float_list = [5.3,1.1,4.1]"
   ]
  },
  {
   "cell_type": "code",
   "execution_count": 15,
   "id": "e8668f0c-36eb-46c3-a131-d921e25b2e66",
   "metadata": {},
   "outputs": [],
   "source": [
    "text_list = [\"saransh\",\"shubham\",\"abhishek\"]"
   ]
  },
  {
   "cell_type": "code",
   "execution_count": 26,
   "id": "3f8bc6d4-944f-47da-b74e-5079a9a9bbd4",
   "metadata": {},
   "outputs": [],
   "source": [
    "bool_list = [True,False,True]"
   ]
  },
  {
   "cell_type": "code",
   "execution_count": 17,
   "id": "2d76a335-58e7-4612-ba5c-248d4dc6e9a1",
   "metadata": {},
   "outputs": [
    {
     "name": "stdout",
     "output_type": "stream",
     "text": [
      "[1 2 4 5 6]\n"
     ]
    }
   ],
   "source": [
    "num_Arr = np.array(num_list)\n",
    "print(num_Arr)"
   ]
  },
  {
   "cell_type": "code",
   "execution_count": 38,
   "id": "ac2dea22-a94b-460b-a4ad-9603e017c939",
   "metadata": {},
   "outputs": [
    {
     "data": {
      "text/plain": [
       "dtype('int64')"
      ]
     },
     "execution_count": 38,
     "metadata": {},
     "output_type": "execute_result"
    }
   ],
   "source": [
    "num_Arr.dtype        # datatype"
   ]
  },
  {
   "cell_type": "code",
   "execution_count": 18,
   "id": "4b8d9375-a2b4-43e0-8ca5-605287a0022a",
   "metadata": {},
   "outputs": [
    {
     "name": "stdout",
     "output_type": "stream",
     "text": [
      "[5.3 1.1 4.1]\n"
     ]
    }
   ],
   "source": [
    "float_Arr = np.array(float_list)\n",
    "print(float_Arr)"
   ]
  },
  {
   "cell_type": "code",
   "execution_count": 24,
   "id": "9a0d6c65-1ed0-4f05-8bb9-f7796f8b5713",
   "metadata": {},
   "outputs": [
    {
     "data": {
      "text/plain": [
       "dtype('float64')"
      ]
     },
     "execution_count": 24,
     "metadata": {},
     "output_type": "execute_result"
    }
   ],
   "source": [
    "float_Arr.dtype"
   ]
  },
  {
   "cell_type": "code",
   "execution_count": 20,
   "id": "57065a8a-ca38-45c7-a999-a0079aeb5112",
   "metadata": {},
   "outputs": [
    {
     "name": "stdout",
     "output_type": "stream",
     "text": [
      "['saransh' 'shubham' 'abhishek']\n"
     ]
    }
   ],
   "source": [
    "text_Arr = np.array(text_list)\n",
    "print(text_Arr)"
   ]
  },
  {
   "cell_type": "code",
   "execution_count": 22,
   "id": "237cf9e0-e47a-422c-827e-d6f16e56434a",
   "metadata": {},
   "outputs": [
    {
     "data": {
      "text/plain": [
       "dtype('<U8')"
      ]
     },
     "execution_count": 22,
     "metadata": {},
     "output_type": "execute_result"
    }
   ],
   "source": [
    "text_Arr.dtype"
   ]
  },
  {
   "cell_type": "code",
   "execution_count": 27,
   "id": "7301cad4-f4d8-4186-b999-d0642a02db81",
   "metadata": {},
   "outputs": [
    {
     "name": "stdout",
     "output_type": "stream",
     "text": [
      "[ True False  True]\n"
     ]
    }
   ],
   "source": [
    "bool_Arr = np.array(bool_list)\n",
    "print(bool_Arr)"
   ]
  },
  {
   "cell_type": "code",
   "execution_count": 28,
   "id": "a3bd0bc7-f29d-44a8-a8ac-74e3b5e12448",
   "metadata": {},
   "outputs": [
    {
     "data": {
      "text/plain": [
       "dtype('bool')"
      ]
     },
     "execution_count": 28,
     "metadata": {},
     "output_type": "execute_result"
    }
   ],
   "source": [
    "bool_Arr.dtype"
   ]
  },
  {
   "cell_type": "code",
   "execution_count": 29,
   "id": "17ca742b-83e5-4a62-9ca5-b437a031d5ba",
   "metadata": {},
   "outputs": [],
   "source": [
    "# agr different type of data store krna ho"
   ]
  },
  {
   "cell_type": "code",
   "execution_count": 33,
   "id": "39026aa6-c7cb-408c-9600-0760dd7a93fa",
   "metadata": {},
   "outputs": [
    {
     "name": "stdout",
     "output_type": "stream",
     "text": [
      "['5' '6.3' 'True' 'Saransh']\n"
     ]
    }
   ],
   "source": [
    "sar = np.array([5,6.3,True,\"Saransh\"])\n",
    "print(sar)"
   ]
  },
  {
   "cell_type": "code",
   "execution_count": 34,
   "id": "d24b63b5-1bd1-431c-9d15-6d093292214e",
   "metadata": {},
   "outputs": [
    {
     "data": {
      "text/plain": [
       "dtype('<U32')"
      ]
     },
     "execution_count": 34,
     "metadata": {},
     "output_type": "execute_result"
    }
   ],
   "source": [
    "sar.dtype"
   ]
  },
  {
   "cell_type": "code",
   "execution_count": 42,
   "id": "af2a89b3-850e-45dd-a4b2-ebf7273ca262",
   "metadata": {},
   "outputs": [
    {
     "data": {
      "text/plain": [
       "4"
      ]
     },
     "execution_count": 42,
     "metadata": {},
     "output_type": "execute_result"
    }
   ],
   "source": [
    "sar.size      # kitne elements hai array mai"
   ]
  },
  {
   "cell_type": "code",
   "execution_count": 43,
   "id": "572b9be7-7b59-4cb7-9036-5d2c4aeb05b2",
   "metadata": {},
   "outputs": [],
   "source": [
    "# Dimensions"
   ]
  },
  {
   "cell_type": "code",
   "execution_count": 44,
   "id": "c82965e5-4936-492c-abba-91588cbf9189",
   "metadata": {},
   "outputs": [
    {
     "data": {
      "text/plain": [
       "1"
      ]
     },
     "execution_count": 44,
     "metadata": {},
     "output_type": "execute_result"
    }
   ],
   "source": [
    "sar.ndim"
   ]
  },
  {
   "cell_type": "markdown",
   "id": "6efc12d2-a1c2-4193-ac0b-af24e84bd22d",
   "metadata": {},
   "source": [
    "# 0 dimension value scaler kha jata hai"
   ]
  },
  {
   "cell_type": "code",
   "execution_count": 46,
   "id": "b75cb7e0-7153-438b-94ec-379ca57213ab",
   "metadata": {},
   "outputs": [
    {
     "name": "stdout",
     "output_type": "stream",
     "text": [
      "5\n"
     ]
    }
   ],
   "source": [
    "scaler = np.array(5)           \n",
    "print(scaler)"
   ]
  },
  {
   "cell_type": "code",
   "execution_count": 47,
   "id": "7db5f4fe-1d2a-4b9a-99cc-ebcb601c94bc",
   "metadata": {},
   "outputs": [
    {
     "data": {
      "text/plain": [
       "()"
      ]
     },
     "execution_count": 47,
     "metadata": {},
     "output_type": "execute_result"
    }
   ],
   "source": [
    "scaler.shape"
   ]
  },
  {
   "cell_type": "code",
   "execution_count": 48,
   "id": "ad6780a6-8347-452c-9ee7-f6cd398fd357",
   "metadata": {},
   "outputs": [
    {
     "data": {
      "text/plain": [
       "dtype('int64')"
      ]
     },
     "execution_count": 48,
     "metadata": {},
     "output_type": "execute_result"
    }
   ],
   "source": [
    "scaler.dtype"
   ]
  },
  {
   "cell_type": "code",
   "execution_count": 49,
   "id": "c889d547-52bd-4f8f-a45e-a911f96ba93b",
   "metadata": {},
   "outputs": [
    {
     "data": {
      "text/plain": [
       "1"
      ]
     },
     "execution_count": 49,
     "metadata": {},
     "output_type": "execute_result"
    }
   ],
   "source": [
    "scaler.size"
   ]
  },
  {
   "cell_type": "code",
   "execution_count": 50,
   "id": "77d7d5ce-cedf-4593-ba66-b0b3f2d7db90",
   "metadata": {},
   "outputs": [
    {
     "data": {
      "text/plain": [
       "0"
      ]
     },
     "execution_count": 50,
     "metadata": {},
     "output_type": "execute_result"
    }
   ],
   "source": [
    "scaler.ndim"
   ]
  },
  {
   "cell_type": "markdown",
   "id": "2eaca897-c415-43d1-a09e-87a390f0ac9c",
   "metadata": {},
   "source": [
    "# matrix is collection of vectors"
   ]
  },
  {
   "cell_type": "code",
   "execution_count": 52,
   "id": "0b5ebd5b-a03a-4eeb-b627-5d775bd6ac91",
   "metadata": {},
   "outputs": [
    {
     "name": "stdout",
     "output_type": "stream",
     "text": [
      "[[1 2 3]\n",
      " [4 5 6]\n",
      " [7 8 9]]\n"
     ]
    }
   ],
   "source": [
    "matrix = np.array(\n",
    "   [[1,2,3],\n",
    "    [4,5,6],\n",
    "    [7,8,9]\n",
    "    ]\n",
    ")\n",
    "print(matrix)"
   ]
  },
  {
   "cell_type": "code",
   "execution_count": 53,
   "id": "c3a2e58c-f242-49df-8633-2a0579a48fcc",
   "metadata": {},
   "outputs": [
    {
     "data": {
      "text/plain": [
       "2"
      ]
     },
     "execution_count": 53,
     "metadata": {},
     "output_type": "execute_result"
    }
   ],
   "source": [
    "matrix.ndim"
   ]
  },
  {
   "cell_type": "code",
   "execution_count": 54,
   "id": "312009d5-97b2-408b-a692-e785babef1e6",
   "metadata": {},
   "outputs": [
    {
     "data": {
      "text/plain": [
       "9"
      ]
     },
     "execution_count": 54,
     "metadata": {},
     "output_type": "execute_result"
    }
   ],
   "source": [
    "matrix.size"
   ]
  },
  {
   "cell_type": "code",
   "execution_count": 55,
   "id": "f9a45bdf-8a42-40fc-8433-2b6ba0153074",
   "metadata": {},
   "outputs": [
    {
     "data": {
      "text/plain": [
       "dtype('int64')"
      ]
     },
     "execution_count": 55,
     "metadata": {},
     "output_type": "execute_result"
    }
   ],
   "source": [
    "matrix.dtype"
   ]
  },
  {
   "cell_type": "code",
   "execution_count": 56,
   "id": "76d81f1f-f6a1-4cc4-8288-6429edbebf08",
   "metadata": {},
   "outputs": [
    {
     "data": {
      "text/plain": [
       "(3, 3)"
      ]
     },
     "execution_count": 56,
     "metadata": {},
     "output_type": "execute_result"
    }
   ],
   "source": [
    "matrix.shape"
   ]
  },
  {
   "cell_type": "code",
   "execution_count": 59,
   "id": "73a38591-c07b-401b-8cbe-1463dfb3f215",
   "metadata": {},
   "outputs": [],
   "source": [
    "# Hum shape or size bigad nhi skte  consitant rhena pdega vrna error ayega."
   ]
  },
  {
   "cell_type": "code",
   "execution_count": 60,
   "id": "d7e5cb18-9250-40c1-af95-41b5a8ef14b3",
   "metadata": {},
   "outputs": [
    {
     "name": "stdout",
     "output_type": "stream",
     "text": [
      "[[ 1  2  3  4]\n",
      " [ 5  6  7  8]\n",
      " [ 9 10 11 12]]\n"
     ]
    }
   ],
   "source": [
    "matrix = np.array(\n",
    "    [\n",
    "        [1,2,3,4],\n",
    "        [5,6,7,8],\n",
    "        [9,10,11,12]\n",
    "    ]\n",
    "    \n",
    ")\n",
    "print(matrix)"
   ]
  },
  {
   "cell_type": "code",
   "execution_count": 61,
   "id": "b11d3be3-525c-4818-b54f-77f42ee4c7c9",
   "metadata": {},
   "outputs": [
    {
     "data": {
      "text/plain": [
       "dtype('int64')"
      ]
     },
     "execution_count": 61,
     "metadata": {},
     "output_type": "execute_result"
    }
   ],
   "source": [
    "matrix.dtype"
   ]
  },
  {
   "cell_type": "code",
   "execution_count": 62,
   "id": "d1733bd0-c393-4162-8677-8a12f9d3e942",
   "metadata": {},
   "outputs": [
    {
     "data": {
      "text/plain": [
       "12"
      ]
     },
     "execution_count": 62,
     "metadata": {},
     "output_type": "execute_result"
    }
   ],
   "source": [
    "matrix.size"
   ]
  },
  {
   "cell_type": "code",
   "execution_count": 63,
   "id": "4619b839-2f5f-4297-a7fb-6c4c405aa4b1",
   "metadata": {},
   "outputs": [
    {
     "data": {
      "text/plain": [
       "(3, 4)"
      ]
     },
     "execution_count": 63,
     "metadata": {},
     "output_type": "execute_result"
    }
   ],
   "source": [
    "matrix.shape"
   ]
  },
  {
   "cell_type": "code",
   "execution_count": 64,
   "id": "1108a53a-0450-4468-b715-07fe4f4815da",
   "metadata": {},
   "outputs": [
    {
     "data": {
      "text/plain": [
       "2"
      ]
     },
     "execution_count": 64,
     "metadata": {},
     "output_type": "execute_result"
    }
   ],
   "source": [
    "matrix.ndim"
   ]
  },
  {
   "cell_type": "markdown",
   "id": "36d999eb-5414-4697-8ee1-ac6694f68f18",
   "metadata": {},
   "source": [
    "# Tensor"
   ]
  },
  {
   "cell_type": "markdown",
   "id": "dbc0bd1d-d4f6-40da-86aa-b56128938695",
   "metadata": {},
   "source": [
    "## combination of matrix"
   ]
  },
  {
   "cell_type": "code",
   "execution_count": 74,
   "id": "82d144f0-04b6-4cbd-ba19-c08572f188c8",
   "metadata": {},
   "outputs": [
    {
     "name": "stdout",
     "output_type": "stream",
     "text": [
      "[[[ 1  2]\n",
      "  [ 3  4]]\n",
      "\n",
      " [[ 5  6]\n",
      "  [ 7  8]]\n",
      "\n",
      " [[ 9 10]\n",
      "  [11 12]]]\n"
     ]
    }
   ],
   "source": [
    "tensor = np.array([\n",
    "    [\n",
    "        [1,2],\n",
    "        [3,4]\n",
    "    ],\n",
    "    [\n",
    "        [5,6],\n",
    "        [7,8]\n",
    "    ],\n",
    "    [\n",
    "        [9,10],\n",
    "        [11,12]\n",
    "    ]\n",
    "])\n",
    "print(tensor)"
   ]
  },
  {
   "cell_type": "code",
   "execution_count": 75,
   "id": "fedc6d43-52bd-4b4f-bdff-69a9f29df9a2",
   "metadata": {},
   "outputs": [
    {
     "data": {
      "text/plain": [
       "3"
      ]
     },
     "execution_count": 75,
     "metadata": {},
     "output_type": "execute_result"
    }
   ],
   "source": [
    "tensor.ndim"
   ]
  },
  {
   "cell_type": "code",
   "execution_count": 76,
   "id": "d539dd19-7471-47b6-88c5-fe1c69bd710f",
   "metadata": {},
   "outputs": [
    {
     "data": {
      "text/plain": [
       "(3, 2, 2)"
      ]
     },
     "execution_count": 76,
     "metadata": {},
     "output_type": "execute_result"
    }
   ],
   "source": [
    "tensor.shape"
   ]
  },
  {
   "cell_type": "code",
   "execution_count": 77,
   "id": "b4e2a16b-5f8e-4137-ae21-ceb3d6f691c1",
   "metadata": {},
   "outputs": [
    {
     "data": {
      "text/plain": [
       "12"
      ]
     },
     "execution_count": 77,
     "metadata": {},
     "output_type": "execute_result"
    }
   ],
   "source": [
    "tensor.size"
   ]
  },
  {
   "cell_type": "markdown",
   "id": "d6bf3437-a97f-4c84-9827-fb9de2e9a788",
   "metadata": {},
   "source": [
    "# Reshape"
   ]
  },
  {
   "cell_type": "code",
   "execution_count": 159,
   "id": "1c756d1f-735b-4b4f-bb03-e1369b70d9b9",
   "metadata": {},
   "outputs": [
    {
     "name": "stdout",
     "output_type": "stream",
     "text": [
      "[1, 2, 3, 4, 5, 6, 7, 8, 9, 10, 11, 12, 13, 14, 15, 16, 17, 18, 19, 20, 21, 22, 23, 24]\n"
     ]
    }
   ],
   "source": [
    "num = 24\n",
    "arr= []\n",
    "for i in range(1,num+1):\n",
    "    arr.append(i)\n",
    "print(arr)\n",
    "    #print(i)"
   ]
  },
  {
   "cell_type": "code",
   "execution_count": 181,
   "id": "fa2e30ef-ea88-4495-a94f-57bdb0080d4f",
   "metadata": {},
   "outputs": [
    {
     "name": "stdout",
     "output_type": "stream",
     "text": [
      "[ 1  2  3  4  5  6  7  8  9 10 11 12 13 14 15 16 17 18 19 20 21 22 23 24]\n"
     ]
    }
   ],
   "source": [
    "arr = np.array(range (1,25))\n",
    "print(arr)"
   ]
  },
  {
   "cell_type": "code",
   "execution_count": 162,
   "id": "2b2e086e-b578-49b1-919d-41af1d4cdb61",
   "metadata": {},
   "outputs": [
    {
     "name": "stdout",
     "output_type": "stream",
     "text": [
      "[ 1  2  3  4  5  6  7  8  9 10 11 12 13 14 15 16 17 18 19 20 21 22 23 24]\n"
     ]
    }
   ],
   "source": [
    "arr = np.array([1,2,3,4,5,6,7,8,9,10,11,12,13,14,15,16,17,18,19,20,21,22,23,24])\n",
    "print(arr)"
   ]
  },
  {
   "cell_type": "code",
   "execution_count": 163,
   "id": "0c249d3f-7ca6-497f-8bcc-0ffdb279b790",
   "metadata": {},
   "outputs": [
    {
     "data": {
      "text/plain": [
       "array([[ 1,  2,  3,  4,  5,  6,  7,  8,  9, 10, 11, 12, 13, 14, 15, 16,\n",
       "        17, 18, 19, 20, 21, 22, 23, 24]])"
      ]
     },
     "execution_count": 163,
     "metadata": {},
     "output_type": "execute_result"
    }
   ],
   "source": [
    "arr.reshape(1,24)"
   ]
  },
  {
   "cell_type": "code",
   "execution_count": 164,
   "id": "484e573d-6988-4a9b-a254-79760849a81b",
   "metadata": {},
   "outputs": [
    {
     "data": {
      "text/plain": [
       "array([[ 1,  2],\n",
       "       [ 3,  4],\n",
       "       [ 5,  6],\n",
       "       [ 7,  8],\n",
       "       [ 9, 10],\n",
       "       [11, 12],\n",
       "       [13, 14],\n",
       "       [15, 16],\n",
       "       [17, 18],\n",
       "       [19, 20],\n",
       "       [21, 22],\n",
       "       [23, 24]])"
      ]
     },
     "execution_count": 164,
     "metadata": {},
     "output_type": "execute_result"
    }
   ],
   "source": [
    "arr.reshape(12,2)"
   ]
  },
  {
   "cell_type": "code",
   "execution_count": 165,
   "id": "e80e8377-f68f-46af-9ed4-a90bc8c788b9",
   "metadata": {},
   "outputs": [
    {
     "data": {
      "text/plain": [
       "array([[[ 1,  2],\n",
       "        [ 3,  4]],\n",
       "\n",
       "       [[ 5,  6],\n",
       "        [ 7,  8]],\n",
       "\n",
       "       [[ 9, 10],\n",
       "        [11, 12]],\n",
       "\n",
       "       [[13, 14],\n",
       "        [15, 16]],\n",
       "\n",
       "       [[17, 18],\n",
       "        [19, 20]],\n",
       "\n",
       "       [[21, 22],\n",
       "        [23, 24]]])"
      ]
     },
     "execution_count": 165,
     "metadata": {},
     "output_type": "execute_result"
    }
   ],
   "source": [
    "arr.reshape(6,2,2)"
   ]
  },
  {
   "cell_type": "code",
   "execution_count": 166,
   "id": "b94ae2b2-7b19-4463-966b-ee28a16bc641",
   "metadata": {},
   "outputs": [
    {
     "data": {
      "text/plain": [
       "array([[ 1,  2,  3,  4,  5,  6],\n",
       "       [ 7,  8,  9, 10, 11, 12],\n",
       "       [13, 14, 15, 16, 17, 18],\n",
       "       [19, 20, 21, 22, 23, 24]])"
      ]
     },
     "execution_count": 166,
     "metadata": {},
     "output_type": "execute_result"
    }
   ],
   "source": [
    "arr.reshape(4,-1)      # using -1 wo khud hi pura shape lga dega"
   ]
  },
  {
   "cell_type": "code",
   "execution_count": 167,
   "id": "7d9b6140-de5c-47f2-82f2-f9e5c194c749",
   "metadata": {},
   "outputs": [
    {
     "data": {
      "text/plain": [
       "array([ 1,  2,  3,  4,  5,  6,  7,  8,  9, 10, 11, 12, 13, 14, 15, 16, 17,\n",
       "       18, 19, 20, 21, 22, 23, 24])"
      ]
     },
     "execution_count": 167,
     "metadata": {},
     "output_type": "execute_result"
    }
   ],
   "source": [
    "arr.reshape(-1)"
   ]
  },
  {
   "cell_type": "code",
   "execution_count": null,
   "id": "e824fb44-bbd5-42c3-b3a9-7ba0298a4491",
   "metadata": {},
   "outputs": [],
   "source": []
  },
  {
   "cell_type": "code",
   "execution_count": null,
   "id": "3a65e356-1bab-4f97-a10d-dc5a679fea8b",
   "metadata": {},
   "outputs": [],
   "source": []
  },
  {
   "cell_type": "code",
   "execution_count": null,
   "id": "bdea461b-61ae-4138-aedc-a475256c831a",
   "metadata": {},
   "outputs": [],
   "source": []
  }
 ],
 "metadata": {
  "kernelspec": {
   "display_name": "Python 3 (ipykernel)",
   "language": "python",
   "name": "python3"
  },
  "language_info": {
   "codemirror_mode": {
    "name": "ipython",
    "version": 3
   },
   "file_extension": ".py",
   "mimetype": "text/x-python",
   "name": "python",
   "nbconvert_exporter": "python",
   "pygments_lexer": "ipython3",
   "version": "3.13.5"
  }
 },
 "nbformat": 4,
 "nbformat_minor": 5
}
